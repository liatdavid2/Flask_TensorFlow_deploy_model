{
 "cells": [
  {
   "cell_type": "code",
   "execution_count": 41,
   "metadata": {},
   "outputs": [
    {
     "data": {
      "text/plain": [
       "['svm_kernel_rbf.joblib']"
      ]
     },
     "execution_count": 41,
     "metadata": {},
     "output_type": "execute_result"
    }
   ],
   "source": [
    "from sklearn import svm\n",
    "from sklearn import datasets\n",
    "clf = svm.SVC(kernel = 'rbf', random_state = 0)\n",
    "X, y= datasets.load_iris(return_X_y=True)\n",
    "clf.fit(X, y)\n",
    "\n",
    "from joblib import dump, load\n",
    "dump(clf, 'svm_kernel_rbf.joblib') "
   ]
  },
  {
   "cell_type": "code",
   "execution_count": 37,
   "metadata": {},
   "outputs": [
    {
     "data": {
      "text/plain": [
       "['LogisticRegression.joblib']"
      ]
     },
     "execution_count": 37,
     "metadata": {},
     "output_type": "execute_result"
    }
   ],
   "source": [
    "from sklearn.linear_model import LogisticRegression\n",
    "from sklearn import datasets\n",
    "clf = LogisticRegression(random_state = 0)\n",
    "X, y= datasets.load_iris(return_X_y=True)\n",
    "clf.fit(X, y)\n",
    "\n",
    "from joblib import dump, load\n",
    "dump(clf, 'LogisticRegression.joblib') "
   ]
  },
  {
   "cell_type": "code",
   "execution_count": 55,
   "metadata": {},
   "outputs": [
    {
     "name": "stdout",
     "output_type": "stream",
     "text": [
      "svm rbf 10 fold accuracies mean:::0.9800000000000001\n",
      "LogisticRegression 10 fold accuracies mean:::0.9533333333333334\n"
     ]
    }
   ],
   "source": [
    "#check accuracies for each algorithem with 10 folds of training set\n",
    "from sklearn.svm import SVC\n",
    "from sklearn.metrics import classification_report,confusion_matrix\n",
    "C = 1.0\n",
    "classifier = SVC(kernel = 'rbf',random_state=1,C =C)\n",
    "accuracies = cross_val_score(estimator = classifier, X = X , y= y ,cv=10)# 10 folds of training set\n",
    "print('svm rbf 10 fold accuracies mean:::'+str(accuracies.mean()) )\n",
    "    \n",
    "from sklearn.svm import SVC\n",
    "from sklearn.metrics import classification_report,confusion_matrix\n",
    "C = 1.0\n",
    "classifier = LogisticRegression(random_state = 0)\n",
    "accuracies = cross_val_score(estimator = classifier, X = X , y= y ,cv=10)# 10 folds of training set\n",
    "print('LogisticRegression 10 fold accuracies mean:::'+str(accuracies.mean()) )\n"
   ]
  },
  {
   "cell_type": "code",
   "execution_count": null,
   "metadata": {},
   "outputs": [],
   "source": []
  }
 ],
 "metadata": {
  "kernelspec": {
   "display_name": "Python 3",
   "language": "python",
   "name": "python3"
  },
  "language_info": {
   "codemirror_mode": {
    "name": "ipython",
    "version": 3
   },
   "file_extension": ".py",
   "mimetype": "text/x-python",
   "name": "python",
   "nbconvert_exporter": "python",
   "pygments_lexer": "ipython3",
   "version": "3.6.5"
  }
 },
 "nbformat": 4,
 "nbformat_minor": 2
}
